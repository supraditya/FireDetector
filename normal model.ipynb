{
 "cells": [
  {
   "cell_type": "markdown",
   "metadata": {},
   "source": [
    "# Importing Libraries"
   ]
  },
  {
   "cell_type": "code",
   "execution_count": 1,
   "metadata": {},
   "outputs": [],
   "source": [
    "import sys\n",
    "\n",
    "if not sys.warnoptions:\n",
    "    import warnings\n",
    "    warnings.simplefilter(\"ignore\")"
   ]
  },
  {
   "cell_type": "code",
   "execution_count": 2,
   "metadata": {},
   "outputs": [
    {
     "output_type": "stream",
     "name": "stderr",
     "text": "Using TensorFlow backend.\n"
    }
   ],
   "source": [
    "import cv2\n",
    "#from coffeeshop.coffeeshop import Coffeeshop\n",
    "from tensordash.tensordash import Tensordash\n",
    "import matplotlib.pyplot as plt\n",
    "import numpy as np\n",
    "import glob\n",
    "import keras\n",
    "from keras.models import Sequential,Model\n",
    "from keras.optimizers import Adam\n",
    "from keras.layers import Input, Add, Dense, Activation, ZeroPadding2D, BatchNormalization, Flatten, Conv2D, AveragePooling2D, MaxPooling2D, GlobalMaxPooling2D\n",
    "from keras.utils.np_utils import to_categorical"
   ]
  },
  {
   "cell_type": "markdown",
   "metadata": {},
   "source": [
    "# Importing Non-Enhanced Data"
   ]
  },
  {
   "cell_type": "code",
   "execution_count": 3,
   "metadata": {},
   "outputs": [],
   "source": [
    "x=list()\n",
    "y=list()\n",
    "fire=glob.glob('augmented fire/*.jpg')\n",
    "nfire=glob.glob('augmented no fire/*.jpg')\n",
    "for i in fire:\n",
    "    img=cv2.imread(i,1)\n",
    "    img=cv2.resize(img,(50,50))\n",
    "    img=np.float32(img)\n",
    "    img/=255.0\n",
    "    img = img.reshape(50, 50, 3)\n",
    "    x.append(img)\n",
    "    y.append(1)\n",
    "for j in nfire:\n",
    "    img=cv2.imread(j,1)\n",
    "    img=cv2.resize(img,(50,50))\n",
    "    img=np.float32(img)\n",
    "    img/=255.0\n",
    "    img = img.reshape(50, 50, 3)\n",
    "    x.append(img)\n",
    "    y.append(0)\n",
    "x=np.asarray(x)\n",
    "y=np.asarray(y)\n",
    "y=to_categorical(y)"
   ]
  },
  {
   "cell_type": "markdown",
   "metadata": {},
   "source": [
    "# Importing Validation Data"
   ]
  },
  {
   "cell_type": "code",
   "execution_count": 4,
   "metadata": {},
   "outputs": [],
   "source": [
    "firel=glob.glob('val/fire/*.jpg')\n",
    "nfirel=glob.glob('val/no fire/*.jpg')\n",
    "xval=list()\n",
    "yval=list()\n",
    "for i in firel:\n",
    "    img=cv2.imread(i,1)\n",
    "    img=cv2.resize(img,(50,50))\n",
    "    img=np.float32(img)\n",
    "    img/=255.0\n",
    "    img = img.reshape(50, 50, 3)\n",
    "    img=img.tolist()\n",
    "    xval.append(img)\n",
    "    yval.append(1)\n",
    "for i in nfirel:\n",
    "    img=cv2.imread(i,1)\n",
    "    img=cv2.resize(img,(50,50))\n",
    "    img=np.float32(img)\n",
    "    img/=255.0\n",
    "    img = img.reshape(50, 50, 3)\n",
    "    img=img.tolist()\n",
    "    xval.append(img)\n",
    "    yval.append(0)\n",
    "xval=np.asarray(xval)\n",
    "yval=np.asarray(yval)\n",
    "yval=to_categorical(yval)"
   ]
  },
  {
   "cell_type": "markdown",
   "metadata": {},
   "source": [
    "# Neural Network"
   ]
  },
  {
   "cell_type": "code",
   "execution_count": 5,
   "metadata": {},
   "outputs": [],
   "source": [
    "\"\"\"def NN():\n",
    "    model = Sequential()\n",
    "    model.add(Conv2D(16, (3,3),input_shape=(50,50,3),padding='same', activation='sigmoid'))\n",
    "    model.add(MaxPooling2D(pool_size = (2, 2)))\n",
    "    model.add(Conv2D(8, (3, 3), activation = 'sigmoid',padding = 'same'))\n",
    "    model.add(MaxPooling2D(pool_size = (2,2)))\n",
    "    model.add(Flatten())\n",
    "    model.add(Dense(128, activation = 'sigmoid'))\n",
    "    model.add(Dense(64, activation = 'sigmoid'))\n",
    "    model.add(Dense(2, activation = 'softmax'))\n",
    "    model.compile(Adam(lr = 0.001), loss = 'categorical_crossentropy', metrics = ['accuracy'])\n",
    "    return model\"\"\""
   ]
  },
  {
   "cell_type": "code",
   "execution_count": 5,
   "metadata": {},
   "outputs": [],
   "source": [
    "def NN():\n",
    "    model = Sequential()\n",
    "    model.add(Conv2D(16, (3,3),input_shape=(50,50,3),padding='same', activation='sigmoid'))\n",
    "    model.add(MaxPooling2D(pool_size = (2, 2)))\n",
    "    model.add(Conv2D(8, (3, 3), activation = 'sigmoid',padding = 'same'))\n",
    "    model.add(MaxPooling2D(pool_size = (2,2)))\n",
    "    model.add(Flatten())\n",
    "    model.add(Dense(128, activation = 'sigmoid'))\n",
    "    model.add(Dense(64, activation = 'sigmoid'))\n",
    "    model.add(Dense(2, activation = 'softmax'))\n",
    "    model.compile(Adam(lr = 0.001), loss = 'mse', metrics = ['accuracy'])\n",
    "    return model"
   ]
  },
  {
   "cell_type": "code",
   "execution_count": 6,
   "metadata": {},
   "outputs": [
    {
     "output_type": "stream",
     "name": "stdout",
     "text": "Model: \"sequential_1\"\n_________________________________________________________________\nLayer (type)                 Output Shape              Param #   \n=================================================================\nconv2d_1 (Conv2D)            (None, 50, 50, 16)        448       \n_________________________________________________________________\nmax_pooling2d_1 (MaxPooling2 (None, 25, 25, 16)        0         \n_________________________________________________________________\nconv2d_2 (Conv2D)            (None, 25, 25, 8)         1160      \n_________________________________________________________________\nmax_pooling2d_2 (MaxPooling2 (None, 12, 12, 8)         0         \n_________________________________________________________________\nflatten_1 (Flatten)          (None, 1152)              0         \n_________________________________________________________________\ndense_1 (Dense)              (None, 128)               147584    \n_________________________________________________________________\ndense_2 (Dense)              (None, 64)                8256      \n_________________________________________________________________\ndense_3 (Dense)              (None, 2)                 130       \n=================================================================\nTotal params: 157,578\nTrainable params: 157,578\nNon-trainable params: 0\n_________________________________________________________________\n"
    }
   ],
   "source": [
    "model=NN()\n",
    "model.summary()"
   ]
  },
  {
   "cell_type": "code",
   "execution_count": 7,
   "metadata": {},
   "outputs": [
    {
     "output_type": "stream",
     "name": "stdout",
     "text": "Train on 6500 samples, validate on 1759 samples\nEpoch 1/7\n6500/6500 [==============================] - 20s 3ms/step - loss: 0.1265 - accuracy: 0.8372 - val_loss: 0.2898 - val_accuracy: 0.5804\nEpoch 2/7\n6500/6500 [==============================] - 20s 3ms/step - loss: 0.1112 - accuracy: 0.8437 - val_loss: 0.1729 - val_accuracy: 0.8158\nEpoch 3/7\n6500/6500 [==============================] - 19s 3ms/step - loss: 0.0945 - accuracy: 0.8706 - val_loss: 0.0974 - val_accuracy: 0.7993\nEpoch 4/7\n6500/6500 [==============================] - 15s 2ms/step - loss: 0.0820 - accuracy: 0.8918 - val_loss: 0.0778 - val_accuracy: 0.8590\nEpoch 5/7\n6500/6500 [==============================] - 13s 2ms/step - loss: 0.0765 - accuracy: 0.9003 - val_loss: 0.0824 - val_accuracy: 0.8272\nEpoch 6/7\n6500/6500 [==============================] - 19s 3ms/step - loss: 0.0706 - accuracy: 0.9060 - val_loss: 0.1596 - val_accuracy: 0.7675\nEpoch 7/7\n6500/6500 [==============================] - 18s 3ms/step - loss: 0.0678 - accuracy: 0.9103 - val_loss: 0.1091 - val_accuracy: 0.7879\n"
    }
   ],
   "source": [
    "histories=model.fit(x,y,epochs=7,batch_size=5,verbose=1,shuffle=True,validation_data=(xval,yval))"
   ]
  },
  {
   "cell_type": "code",
   "execution_count": 8,
   "metadata": {},
   "outputs": [],
   "source": [
    "model.save('tes.h5')"
   ]
  },
  {
   "cell_type": "code",
   "execution_count": 9,
   "metadata": {},
   "outputs": [
    {
     "data": {
      "image/png": "[encoded data removed]",
      "text/plain": [
       "<Figure size 432x288 with 1 Axes>"
      ]
     },
     "metadata": {
      "needs_background": "light"
     },
     "output_type": "display_data"
    },
    {
     "data": {
      "image/png": "[encoded data removed]",
      "text/plain": [
       "<Figure size 432x288 with 1 Axes>"
      ]
     },
     "metadata": {
      "needs_background": "light"
     },
     "output_type": "display_data"
    }
   ],
   "source": [
    "import matplotlib.pyplot as plt\n",
    "\n",
    "# Plot training & validation accuracy values\n",
    "plt.plot(histories.history['accuracy'])\n",
    "plt.plot(histories.history['val_accuracy'])\n",
    "plt.title('Model accuracy')\n",
    "plt.ylabel('Accuracy')\n",
    "plt.xlabel('Epoch')\n",
    "plt.legend(['Train', 'Test'], loc='upper left')\n",
    "plt.savefig('resources/normal_accuracy.png', dpi=300)\n",
    "plt.show()\n",
    "\n",
    "# Plot training & validation loss values\n",
    "plt.plot(histories.history['loss'])\n",
    "plt.plot(histories.history['val_loss'])\n",
    "plt.title('Model loss')\n",
    "plt.ylabel('Loss')\n",
    "plt.xlabel('Epoch')\n",
    "plt.legend(['Train', 'Test'], loc='upper left')\n",
    "plt.savefig('resources/normal_loss.png', dpi=300)\n",
    "plt.show()"
   ]
  },
  {
   "cell_type": "code",
   "execution_count": null,
   "metadata": {},
   "outputs": [],
   "source": []
  }
 ],
 "metadata": {
  "file_extension": ".py",
  "kernelspec": {
   "display_name": "Python 3.6.9 64-bit",
   "language": "python",
   "name": "python36964bitc14b080313334961b23a3bac8d6445f1"
  },
  "language_info": {
   "codemirror_mode": {
    "name": "ipython",
    "version": 3
   },
   "file_extension": ".py",
   "mimetype": "text/x-python",
   "name": "python",
   "nbconvert_exporter": "python",
   "pygments_lexer": "ipython3",
   "version": "3.6.9-final"
  },
  "mimetype": "text/x-python",
  "name": "python",
  "npconvert_exporter": "python",
  "pygments_lexer": "ipython3",
  "version": 3
 },
 "nbformat": 4,
 "nbformat_minor": 2
}