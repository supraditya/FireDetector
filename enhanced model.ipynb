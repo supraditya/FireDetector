{
 "cells": [
  {
   "cell_type": "markdown",
   "metadata": {},
   "source": [
    "# Importing Libraries"
   ]
  },
  {
   "cell_type": "code",
   "execution_count": 1,
   "metadata": {},
   "outputs": [],
   "source": [
    "# to ignore all the unnecessary warnings\n",
    "import sys\n",
    "\n",
    "if not sys.warnoptions:\n",
    "    import warnings\n",
    "    warnings.simplefilter(\"ignore\")"
   ]
  },
  {
   "cell_type": "code",
   "execution_count": 2,
   "metadata": {},
   "outputs": [
    {
     "name": "stderr",
     "output_type": "stream",
     "text": "Using TensorFlow backend.\n"
    }
   ],
   "source": [
    "import cv2\n",
    "#from coffeeshop.coffeeshop import Coffeeshop\n",
    "from tensordash.tensordash import Tensordash\n",
    "import matplotlib.pyplot as plt\n",
    "import numpy as np\n",
    "import glob\n",
    "import keras\n",
    "from keras.models import Sequential,Model\n",
    "from keras.optimizers import Adam\n",
    "from keras.layers import Input, Add, Dense, Activation, ZeroPadding2D, BatchNormalization, Flatten, Conv2D, AveragePooling2D, MaxPooling2D, GlobalMaxPooling2D\n",
    "from keras.utils.np_utils import to_categorical\n"
   ]
  },
  {
   "cell_type": "markdown",
   "metadata": {},
   "source": [
    "# Importing Enhanced Data"
   ]
  },
  {
   "cell_type": "code",
   "execution_count": 3,
   "metadata": {},
   "outputs": [],
   "source": [
    "x=list()\n",
    "y=list()\n",
    "for i in range(1,1101):\n",
    "    img=cv2.imread(\"Fire 1/%d.jpg\"%i,1)\n",
    "    img=cv2.resize(img,(50,50))\n",
    "    img=np.float32(img)\n",
    "    img/=255.0\n",
    "    img = img.reshape(50, 50, 3)\n",
    "    img=img.tolist()\n",
    "    x.append(img)\n",
    "    y.append(1)\n",
    "for i in range(1,1101):\n",
    "    img=cv2.imread(\"No Fire 1/%d.jpg\"%i,1)\n",
    "    img=cv2.resize(img,(50,50))\n",
    "    img=np.float32(img)\n",
    "    img/=255.0\n",
    "    img = img.reshape(50, 50, 3)\n",
    "    img=img.tolist()\n",
    "    x.append(img)\n",
    "    y.append(0)\n",
    "x=np.asarray(x)\n",
    "y=np.asarray(y)\n",
    "y=to_categorical(y)"
   ]
  },
  {
   "cell_type": "markdown",
   "metadata": {},
   "source": [
    "# Neural Network"
   ]
  },
  {
   "cell_type": "code",
   "execution_count": 4,
   "metadata": {},
   "outputs": [],
   "source": [
    "def NN():\n",
    "    model = Sequential()\n",
    "    model.add(Conv2D(16, (3,3),input_shape=(50,50,3),padding='same', activation='sigmoid'))\n",
    "    model.add(MaxPooling2D(pool_size = (2, 2)))\n",
    "    model.add(Conv2D(8, (3, 3), activation = 'sigmoid',padding = 'same'))\n",
    "    model.add(MaxPooling2D(pool_size = (2,2)))\n",
    "    model.add(Flatten())\n",
    "    model.add(Dense(128, activation = 'sigmoid'))\n",
    "    model.add(Dense(64, activation = 'sigmoid'))\n",
    "    model.add(Dense(2, activation = 'softmax'))\n",
    "    model.compile(Adam(lr = 0.001), loss = 'categorical_crossentropy', metrics = ['accuracy'])\n",
    "    return model"
   ]
  },
  {
   "cell_type": "code",
   "execution_count": 5,
   "metadata": {},
   "outputs": [
    {
     "name": "stdout",
     "output_type": "stream",
     "text": "WARNING:tensorflow:From /home/sagnik106/.local/lib/python3.6/site-packages/keras/backend/tensorflow_backend.py:4070: The name tf.nn.max_pool is deprecated. Please use tf.nn.max_pool2d instead.\n\nModel: \"sequential_1\"\n_________________________________________________________________\nLayer (type)                 Output Shape              Param #   \n=================================================================\nconv2d_1 (Conv2D)            (None, 50, 50, 16)        448       \n_________________________________________________________________\nmax_pooling2d_1 (MaxPooling2 (None, 25, 25, 16)        0         \n_________________________________________________________________\nconv2d_2 (Conv2D)            (None, 25, 25, 8)         1160      \n_________________________________________________________________\nmax_pooling2d_2 (MaxPooling2 (None, 12, 12, 8)         0         \n_________________________________________________________________\nflatten_1 (Flatten)          (None, 1152)              0         \n_________________________________________________________________\ndense_1 (Dense)              (None, 128)               147584    \n_________________________________________________________________\ndense_2 (Dense)              (None, 64)                8256      \n_________________________________________________________________\ndense_3 (Dense)              (None, 2)                 130       \n=================================================================\nTotal params: 157,578\nTrainable params: 157,578\nNon-trainable params: 0\n_________________________________________________________________\n"
    }
   ],
   "source": [
    "model=NN()\n",
    "model.summary()"
   ]
  },
  {
   "cell_type": "code",
   "execution_count": 6,
   "metadata": {},
   "outputs": [
    {
     "name": "stdout",
     "output_type": "stream",
     "text": "WARNING:tensorflow:From /home/sagnik106/.local/lib/python3.6/site-packages/keras/backend/tensorflow_backend.py:422: The name tf.global_variables is deprecated. Please use tf.compat.v1.global_variables instead.\n\nTrain on 1980 samples, validate on 220 samples\nEpoch 1/20\n1980/1980 [==============================] - 2s 1ms/step - loss: 0.6768 - accuracy: 0.5727 - val_loss: 0.6120 - val_accuracy: 0.7045\nEpoch 2/20\n1980/1980 [==============================] - 2s 1ms/step - loss: 0.4908 - accuracy: 0.7667 - val_loss: 0.6838 - val_accuracy: 0.6864\nEpoch 3/20\n1980/1980 [==============================] - 2s 1ms/step - loss: 0.4410 - accuracy: 0.8025 - val_loss: 0.7485 - val_accuracy: 0.6545\nEpoch 4/20\n1980/1980 [==============================] - 2s 1ms/step - loss: 0.4193 - accuracy: 0.8182 - val_loss: 0.6057 - val_accuracy: 0.7682\nEpoch 5/20\n1980/1980 [==============================] - 2s 1ms/step - loss: 0.4033 - accuracy: 0.8288 - val_loss: 1.1799 - val_accuracy: 0.4273\nEpoch 6/20\n1980/1980 [==============================] - 2s 1ms/step - loss: 0.4017 - accuracy: 0.8338 - val_loss: 0.6082 - val_accuracy: 0.7364\nEpoch 7/20\n1980/1980 [==============================] - 2s 1ms/step - loss: 0.3863 - accuracy: 0.8429 - val_loss: 0.9145 - val_accuracy: 0.6136\nEpoch 8/20\n1980/1980 [==============================] - 2s 1ms/step - loss: 0.3732 - accuracy: 0.8460 - val_loss: 0.8860 - val_accuracy: 0.5636\nEpoch 9/20\n1980/1980 [==============================] - 2s 1ms/step - loss: 0.3638 - accuracy: 0.8525 - val_loss: 1.0518 - val_accuracy: 0.5682\nEpoch 10/20\n1980/1980 [==============================] - 2s 1ms/step - loss: 0.3519 - accuracy: 0.8510 - val_loss: 0.6355 - val_accuracy: 0.7636\nEpoch 11/20\n1980/1980 [==============================] - 2s 1ms/step - loss: 0.3477 - accuracy: 0.8520 - val_loss: 1.1879 - val_accuracy: 0.5136\nEpoch 12/20\n1980/1980 [==============================] - 2s 1ms/step - loss: 0.3321 - accuracy: 0.8611 - val_loss: 0.8868 - val_accuracy: 0.6273\nEpoch 13/20\n1980/1980 [==============================] - 2s 1ms/step - loss: 0.3177 - accuracy: 0.8712 - val_loss: 0.9223 - val_accuracy: 0.6727\nEpoch 14/20\n1980/1980 [==============================] - 2s 1ms/step - loss: 0.3061 - accuracy: 0.8788 - val_loss: 1.2310 - val_accuracy: 0.5318\nEpoch 15/20\n1980/1980 [==============================] - 2s 1ms/step - loss: 0.2990 - accuracy: 0.8823 - val_loss: 1.1035 - val_accuracy: 0.6273\nEpoch 16/20\n1980/1980 [==============================] - 2s 1ms/step - loss: 0.2894 - accuracy: 0.8848 - val_loss: 1.0123 - val_accuracy: 0.6273\nEpoch 17/20\n1980/1980 [==============================] - 2s 1ms/step - loss: 0.2704 - accuracy: 0.8934 - val_loss: 1.1608 - val_accuracy: 0.6273\nEpoch 18/20\n1980/1980 [==============================] - 2s 1ms/step - loss: 0.2623 - accuracy: 0.8899 - val_loss: 1.2391 - val_accuracy: 0.5636\nEpoch 19/20\n1980/1980 [==============================] - 2s 1ms/step - loss: 0.2395 - accuracy: 0.9121 - val_loss: 0.9582 - val_accuracy: 0.7045\nEpoch 20/20\n1980/1980 [==============================] - 2s 1ms/step - loss: 0.2278 - accuracy: 0.9111 - val_loss: 0.9592 - val_accuracy: 0.7000\n"
    },
    {
     "data": {
      "text/plain": "<keras.callbacks.callbacks.History at 0x7fdf4878c8d0>"
     },
     "execution_count": 6,
     "metadata": {},
     "output_type": "execute_result"
    }
   ],
   "source": [
    "model.fit(x,y,epochs=20,batch_size=5,verbose=1,shuffle=True,validation_split=0.1)"
   ]
  },
  {
   "cell_type": "code",
   "execution_count": 0,
   "metadata": {},
   "outputs": [],
   "source": [
    "x"
   ]
  },
  {
   "cell_type": "code",
   "execution_count": 0,
   "metadata": {},
   "outputs": [],
   "source": [
    "model.predict(x[76].reshape(1,50,50,3))"
   ]
  },
  {
   "cell_type": "code",
   "execution_count": 0,
   "metadata": {},
   "outputs": [],
   "source": [
    "y"
   ]
  },
  {
   "cell_type": "code",
   "execution_count": null,
   "metadata": {},
   "outputs": [],
   "source": [
    "model.save('val99.h5')"
   ]
  },
  {
   "cell_type": "code",
   "execution_count": null,
   "metadata": {},
   "outputs": [],
   "source": []
  }
 ],
 "metadata": {
  "kernelspec": {
   "display_name": "Python 3",
   "language": "python",
   "name": "python3"
  },
  "language_info": {
   "codemirror_mode": {
    "name": "ipython",
    "version": 3
   },
   "file_extension": ".py",
   "mimetype": "text/x-python",
   "name": "python",
   "nbconvert_exporter": "python",
   "pygments_lexer": "ipython3",
   "version": "3.6.9-final"
  },
  "pycharm": {
   "stem_cell": {
    "cell_type": "raw",
    "metadata": {
     "collapsed": false
    },
    "source": []
   }
  }
 },
 "nbformat": 4,
 "nbformat_minor": 1
}