{
 "cells": [
  {
   "cell_type": "markdown",
   "metadata": {},
   "source": [
    "# Importing Libraries"
   ]
  },
  {
   "cell_type": "code",
   "execution_count": 1,
   "metadata": {},
   "outputs": [],
   "source": [
    "# to ignore all the unnecessary warnings\n",
    "import sys\n",
    "\n",
    "if not sys.warnoptions:\n",
    "    import warnings\n",
    "    warnings.simplefilter(\"ignore\")"
   ]
  },
  {
   "cell_type": "code",
   "execution_count": 11,
   "metadata": {},
   "outputs": [],
   "source": [
    "import cv2\n",
    "#from coffeeshop.coffeeshop import Coffeeshop\n",
    "from tensordash.tensordash import Tensordash\n",
    "import matplotlib.pyplot as plt\n",
    "import numpy as np\n",
    "import glob\n",
    "import keras\n",
    "from keras.models import Sequential,Model\n",
    "from keras.optimizers import Adam\n",
    "from keras.layers import Input, Add, Dense, Activation, ZeroPadding2D, BatchNormalization, Flatten, Conv2D, AveragePooling2D, MaxPooling2D, GlobalMaxPooling2D\n",
    "from keras.utils.np_utils import to_categorical\n"
   ]
  },
  {
   "cell_type": "markdown",
   "metadata": {},
   "source": [
    "# Importing Enhanced Data"
   ]
  },
  {
   "cell_type": "code",
   "execution_count": 20,
   "metadata": {},
   "outputs": [],
   "source": [
    "x=list()\n",
    "y=list()\n",
    "for i in range(1,1101):\n",
    "    img=cv2.imread(\"Fire 1/%d.jpg\"%i,1)\n",
    "    img=cv2.resize(img,(50,50))\n",
    "    img=np.float32(img)\n",
    "    img/=255.0\n",
    "    img = img.reshape(50, 50, 3)\n",
    "    img=img.tolist()\n",
    "    x.append(img)\n",
    "    y.append(1)\n",
    "for i in range(1,1101):\n",
    "    img=cv2.imread(\"No Fire 1/%d.jpg\"%i,1)\n",
    "    img=cv2.resize(img,(50,50))\n",
    "    img=np.float32(img)\n",
    "    img/=255.0\n",
    "    img = img.reshape(50, 50, 3)\n",
    "    img=img.tolist()\n",
    "    x.append(img)\n",
    "    y.append(0)\n",
    "x=np.asarray(x)\n",
    "y=np.asarray(y)\n",
    "y=to_categorical(y)"
   ]
  },
  {
   "cell_type": "markdown",
   "metadata": {},
   "source": [
    "# Neural Network"
   ]
  },
  {
   "cell_type": "code",
   "execution_count": 21,
   "metadata": {},
   "outputs": [],
   "source": [
    "def NN():\n",
    "    model = Sequential()\n",
    "    model.add(Conv2D(16, (3,3),input_shape=(50,50,3),padding='same', activation='sigmoid'))\n",
    "    model.add(MaxPooling2D(pool_size = (2, 2)))\n",
    "    model.add(Conv2D(8, (3, 3), activation = 'sigmoid',padding = 'same'))\n",
    "    model.add(MaxPooling2D(pool_size = (2,2)))\n",
    "    model.add(Flatten())\n",
    "    model.add(Dense(128, activation = 'sigmoid'))\n",
    "    model.add(Dense(64, activation = 'sigmoid'))\n",
    "    model.add(Dense(2, activation = 'softmax'))\n",
    "    model.compile(Adam(lr = 0.001), loss = 'categorical_crossentropy', metrics = ['accuracy'])\n",
    "    return model"
   ]
  },
  {
   "cell_type": "code",
   "execution_count": 29,
   "metadata": {},
   "outputs": [
    {
     "name": "stdout",
     "output_type": "stream",
     "text": "Model: \"sequential_3\"\n_________________________________________________________________\nLayer (type)                 Output Shape              Param #   \n=================================================================\nconv2d_5 (Conv2D)            (None, 50, 50, 16)        448       \n_________________________________________________________________\nmax_pooling2d_5 (MaxPooling2 (None, 25, 25, 16)        0         \n_________________________________________________________________\nconv2d_6 (Conv2D)            (None, 25, 25, 8)         1160      \n_________________________________________________________________\nmax_pooling2d_6 (MaxPooling2 (None, 12, 12, 8)         0         \n_________________________________________________________________\nflatten_3 (Flatten)          (None, 1152)              0         \n_________________________________________________________________\ndense_7 (Dense)              (None, 128)               147584    \n_________________________________________________________________\ndense_8 (Dense)              (None, 64)                8256      \n_________________________________________________________________\ndense_9 (Dense)              (None, 2)                 130       \n=================================================================\nTotal params: 157,578\nTrainable params: 157,578\nNon-trainable params: 0\n_________________________________________________________________\n"
    }
   ],
   "source": [
    "model=NN()\n",
    "model.summary()"
   ]
  },
  {
   "cell_type": "code",
   "execution_count": 30,
   "metadata": {},
   "outputs": [
    {
     "name": "stdout",
     "output_type": "stream",
     "text": "Train on 1980 samples, validate on 220 samples\nEpoch 1/34\n1980/1980 [==============================] - 2s 1ms/step - loss: 0.6615 - accuracy: 0.6101 - val_loss: 0.8585 - val_accuracy: 0.5545\nEpoch 2/34\n1980/1980 [==============================] - 2s 1ms/step - loss: 0.5347 - accuracy: 0.7414 - val_loss: 0.5984 - val_accuracy: 0.7136\nEpoch 3/34\n1980/1980 [==============================] - 2s 1ms/step - loss: 0.4895 - accuracy: 0.7707 - val_loss: 0.8116 - val_accuracy: 0.5591\nEpoch 4/34\n1980/1980 [==============================] - 2s 1ms/step - loss: 0.4584 - accuracy: 0.7833 - val_loss: 0.5711 - val_accuracy: 0.7591\nEpoch 5/34\n1980/1980 [==============================] - 2s 1ms/step - loss: 0.4255 - accuracy: 0.8010 - val_loss: 0.8711 - val_accuracy: 0.5955\nEpoch 6/34\n1980/1980 [==============================] - 2s 1ms/step - loss: 0.4019 - accuracy: 0.8152 - val_loss: 0.9102 - val_accuracy: 0.6227\nEpoch 7/34\n1980/1980 [==============================] - 2s 1ms/step - loss: 0.3965 - accuracy: 0.8192 - val_loss: 0.8226 - val_accuracy: 0.6909\nEpoch 8/34\n1980/1980 [==============================] - 2s 1ms/step - loss: 0.3837 - accuracy: 0.8283 - val_loss: 0.6778 - val_accuracy: 0.7409\nEpoch 9/34\n1980/1980 [==============================] - 2s 1ms/step - loss: 0.3647 - accuracy: 0.8354 - val_loss: 0.7374 - val_accuracy: 0.7318\nEpoch 10/34\n1980/1980 [==============================] - 2s 1ms/step - loss: 0.3589 - accuracy: 0.8434 - val_loss: 0.8566 - val_accuracy: 0.6864\nEpoch 11/34\n1980/1980 [==============================] - 2s 1ms/step - loss: 0.3451 - accuracy: 0.8500 - val_loss: 1.0420 - val_accuracy: 0.6364\nEpoch 12/34\n1980/1980 [==============================] - 2s 1ms/step - loss: 0.3306 - accuracy: 0.8556 - val_loss: 0.8099 - val_accuracy: 0.7136\nEpoch 13/34\n1980/1980 [==============================] - 2s 1ms/step - loss: 0.2995 - accuracy: 0.8753 - val_loss: 0.7206 - val_accuracy: 0.7455\nEpoch 14/34\n1980/1980 [==============================] - 2s 1ms/step - loss: 0.2920 - accuracy: 0.8763 - val_loss: 0.8510 - val_accuracy: 0.7591\nEpoch 15/34\n1980/1980 [==============================] - 2s 1ms/step - loss: 0.2679 - accuracy: 0.8884 - val_loss: 0.8164 - val_accuracy: 0.7773\nEpoch 16/34\n1980/1980 [==============================] - 2s 1ms/step - loss: 0.2533 - accuracy: 0.8995 - val_loss: 1.2763 - val_accuracy: 0.6818\nEpoch 17/34\n1980/1980 [==============================] - 2s 1ms/step - loss: 0.2354 - accuracy: 0.9076 - val_loss: 1.0639 - val_accuracy: 0.7500\nEpoch 18/34\n1980/1980 [==============================] - 2s 1ms/step - loss: 0.2262 - accuracy: 0.9131 - val_loss: 1.2039 - val_accuracy: 0.6955\nEpoch 19/34\n1980/1980 [==============================] - 2s 1ms/step - loss: 0.1891 - accuracy: 0.9293 - val_loss: 1.2720 - val_accuracy: 0.7136\nEpoch 20/34\n1980/1980 [==============================] - 2s 1ms/step - loss: 0.1748 - accuracy: 0.9338 - val_loss: 1.2055 - val_accuracy: 0.7545\nEpoch 21/34\n1980/1980 [==============================] - 2s 1ms/step - loss: 0.1490 - accuracy: 0.9495 - val_loss: 1.6306 - val_accuracy: 0.6818\nEpoch 22/34\n1980/1980 [==============================] - 2s 1ms/step - loss: 0.1339 - accuracy: 0.9505 - val_loss: 1.6174 - val_accuracy: 0.7273\nEpoch 23/34\n1980/1980 [==============================] - 2s 1ms/step - loss: 0.1227 - accuracy: 0.9540 - val_loss: 1.9032 - val_accuracy: 0.6727\nEpoch 24/34\n1980/1980 [==============================] - 2s 1ms/step - loss: 0.1053 - accuracy: 0.9626 - val_loss: 1.7850 - val_accuracy: 0.7182\nEpoch 25/34\n1980/1980 [==============================] - 2s 1ms/step - loss: 0.0835 - accuracy: 0.9737 - val_loss: 1.8854 - val_accuracy: 0.7045\nEpoch 26/34\n1980/1980 [==============================] - 2s 1ms/step - loss: 0.0694 - accuracy: 0.9773 - val_loss: 2.7650 - val_accuracy: 0.6500\nEpoch 27/34\n1980/1980 [==============================] - 2s 1ms/step - loss: 0.0676 - accuracy: 0.9758 - val_loss: 1.7226 - val_accuracy: 0.7636\nEpoch 28/34\n1980/1980 [==============================] - 3s 1ms/step - loss: 0.0448 - accuracy: 0.9874 - val_loss: 2.2469 - val_accuracy: 0.7000\nEpoch 29/34\n1980/1980 [==============================] - 2s 1ms/step - loss: 0.0290 - accuracy: 0.9929 - val_loss: 2.4131 - val_accuracy: 0.7045\nEpoch 30/34\n1980/1980 [==============================] - 2s 1ms/step - loss: 0.0287 - accuracy: 0.9929 - val_loss: 2.4455 - val_accuracy: 0.6909\nEpoch 31/34\n1980/1980 [==============================] - 2s 1ms/step - loss: 0.0575 - accuracy: 0.9803 - val_loss: 1.9710 - val_accuracy: 0.7455\nEpoch 32/34\n1980/1980 [==============================] - 2s 1ms/step - loss: 0.0240 - accuracy: 0.9944 - val_loss: 2.5294 - val_accuracy: 0.6909\nEpoch 33/34\n1980/1980 [==============================] - 2s 1ms/step - loss: 0.0158 - accuracy: 0.9985 - val_loss: 2.5829 - val_accuracy: 0.7182\nEpoch 34/34\n1980/1980 [==============================] - 2s 1ms/step - loss: 0.0093 - accuracy: 0.9985 - val_loss: 2.6234 - val_accuracy: 0.7182\n"
    },
    {
     "data": {
      "text/plain": "<keras.callbacks.callbacks.History at 0x7fe3d4357be0>"
     },
     "execution_count": 30,
     "metadata": {},
     "output_type": "execute_result"
    }
   ],
   "source": [
    "model.fit(x,y,epochs=34,batch_size=5,verbose=1,shuffle=True,validation_split=0.1)"
   ]
  },
  {
   "cell_type": "code",
   "execution_count": 0,
   "metadata": {},
   "outputs": [],
   "source": [
    "x"
   ]
  },
  {
   "cell_type": "code",
   "execution_count": 0,
   "metadata": {},
   "outputs": [],
   "source": [
    "model.predict(x[76].reshape(1,50,50,3))"
   ]
  },
  {
   "cell_type": "code",
   "execution_count": 0,
   "metadata": {},
   "outputs": [],
   "source": [
    "y"
   ]
  },
  {
   "cell_type": "code",
   "execution_count": null,
   "metadata": {},
   "outputs": [],
   "source": [
    "model.save('val99.h5')"
   ]
  },
  {
   "cell_type": "code",
   "execution_count": null,
   "metadata": {},
   "outputs": [],
   "source": []
  }
 ],
 "metadata": {
  "kernelspec": {
   "display_name": "Python 3",
   "language": "python",
   "name": "python3"
  },
  "language_info": {
   "codemirror_mode": {
    "name": "ipython",
    "version": 3
   },
   "file_extension": ".py",
   "mimetype": "text/x-python",
   "name": "python",
   "nbconvert_exporter": "python",
   "pygments_lexer": "ipython3",
   "version": "3.6.9-final"
  },
  "pycharm": {
   "stem_cell": {
    "cell_type": "raw",
    "metadata": {
     "collapsed": false
    },
    "source": []
   }
  }
 },
 "nbformat": 4,
 "nbformat_minor": 1
}